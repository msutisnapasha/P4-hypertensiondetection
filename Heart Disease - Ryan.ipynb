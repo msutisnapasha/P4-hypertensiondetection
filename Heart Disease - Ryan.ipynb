{
 "cells": [
  {
   "cell_type": "markdown",
   "id": "278c4b07",
   "metadata": {},
   "source": [
    "# Import"
   ]
  },
  {
   "cell_type": "code",
   "execution_count": 1,
   "id": "1bd37b59",
   "metadata": {},
   "outputs": [],
   "source": [
    "import numpy as np\n",
    "import pandas as pd\n",
    "import matplotlib.pyplot as plt\n",
    "import seaborn as sns\n",
    "\n",
    "from scipy.stats import randint\n",
    "from sklearn.model_selection import train_test_split, GridSearchCV\n",
    "from sklearn.linear_model import LogisticRegression\n",
    "from sklearn.metrics import classification_report, accuracy_score, roc_auc_score, ConfusionMatrixDisplay\n",
    "from sklearn.preprocessing import LabelEncoder\n",
    "\n",
    "from imblearn.over_sampling import SMOTE, ADASYN\n",
    "from sklearn.ensemble import RandomForestClassifier\n",
    "\n",
    "from sklearn.linear_model import LogisticRegression\n",
    "from sklearn.preprocessing import StandardScaler\n",
    "from sklearn.pipeline import Pipeline"
   ]
  },
  {
   "cell_type": "markdown",
   "id": "58b3234c",
   "metadata": {},
   "source": [
    "# Universal Variable"
   ]
  },
  {
   "cell_type": "code",
   "execution_count": 2,
   "id": "7397d374",
   "metadata": {},
   "outputs": [],
   "source": [
    "randstate = 28\n",
    "maxiter = 1000\n",
    "nestimator = 25\n",
    "classweight = 'balanced'"
   ]
  },
  {
   "cell_type": "markdown",
   "id": "832a76a7",
   "metadata": {},
   "source": [
    "# Load Dataset"
   ]
  },
  {
   "cell_type": "code",
   "execution_count": 3,
   "id": "12ce30da",
   "metadata": {},
   "outputs": [
    {
     "data": {
      "text/html": [
       "<div>\n",
       "<style scoped>\n",
       "    .dataframe tbody tr th:only-of-type {\n",
       "        vertical-align: middle;\n",
       "    }\n",
       "\n",
       "    .dataframe tbody tr th {\n",
       "        vertical-align: top;\n",
       "    }\n",
       "\n",
       "    .dataframe thead th {\n",
       "        text-align: right;\n",
       "    }\n",
       "</style>\n",
       "<table border=\"1\" class=\"dataframe\">\n",
       "  <thead>\n",
       "    <tr style=\"text-align: right;\">\n",
       "      <th></th>\n",
       "      <th>Age</th>\n",
       "      <th>Salt_Intake</th>\n",
       "      <th>Stress_Score</th>\n",
       "      <th>BP_History</th>\n",
       "      <th>Sleep_Duration</th>\n",
       "      <th>BMI</th>\n",
       "      <th>Medication</th>\n",
       "      <th>Family_History</th>\n",
       "      <th>Exercise_Level</th>\n",
       "      <th>Smoking_Status</th>\n",
       "      <th>Has_Hypertension</th>\n",
       "    </tr>\n",
       "  </thead>\n",
       "  <tbody>\n",
       "    <tr>\n",
       "      <th>0</th>\n",
       "      <td>69</td>\n",
       "      <td>8.0</td>\n",
       "      <td>9</td>\n",
       "      <td>Normal</td>\n",
       "      <td>6.4</td>\n",
       "      <td>25.8</td>\n",
       "      <td>NaN</td>\n",
       "      <td>Yes</td>\n",
       "      <td>Low</td>\n",
       "      <td>Non-Smoker</td>\n",
       "      <td>Yes</td>\n",
       "    </tr>\n",
       "    <tr>\n",
       "      <th>1</th>\n",
       "      <td>32</td>\n",
       "      <td>11.7</td>\n",
       "      <td>10</td>\n",
       "      <td>Normal</td>\n",
       "      <td>5.4</td>\n",
       "      <td>23.4</td>\n",
       "      <td>NaN</td>\n",
       "      <td>No</td>\n",
       "      <td>Low</td>\n",
       "      <td>Non-Smoker</td>\n",
       "      <td>No</td>\n",
       "    </tr>\n",
       "    <tr>\n",
       "      <th>2</th>\n",
       "      <td>78</td>\n",
       "      <td>9.5</td>\n",
       "      <td>3</td>\n",
       "      <td>Normal</td>\n",
       "      <td>7.1</td>\n",
       "      <td>18.7</td>\n",
       "      <td>NaN</td>\n",
       "      <td>No</td>\n",
       "      <td>Moderate</td>\n",
       "      <td>Non-Smoker</td>\n",
       "      <td>No</td>\n",
       "    </tr>\n",
       "    <tr>\n",
       "      <th>3</th>\n",
       "      <td>38</td>\n",
       "      <td>10.0</td>\n",
       "      <td>10</td>\n",
       "      <td>Hypertension</td>\n",
       "      <td>4.2</td>\n",
       "      <td>22.1</td>\n",
       "      <td>ACE Inhibitor</td>\n",
       "      <td>No</td>\n",
       "      <td>Low</td>\n",
       "      <td>Non-Smoker</td>\n",
       "      <td>Yes</td>\n",
       "    </tr>\n",
       "    <tr>\n",
       "      <th>4</th>\n",
       "      <td>41</td>\n",
       "      <td>9.8</td>\n",
       "      <td>1</td>\n",
       "      <td>Prehypertension</td>\n",
       "      <td>5.8</td>\n",
       "      <td>16.2</td>\n",
       "      <td>Other</td>\n",
       "      <td>No</td>\n",
       "      <td>Moderate</td>\n",
       "      <td>Non-Smoker</td>\n",
       "      <td>No</td>\n",
       "    </tr>\n",
       "    <tr>\n",
       "      <th>...</th>\n",
       "      <td>...</td>\n",
       "      <td>...</td>\n",
       "      <td>...</td>\n",
       "      <td>...</td>\n",
       "      <td>...</td>\n",
       "      <td>...</td>\n",
       "      <td>...</td>\n",
       "      <td>...</td>\n",
       "      <td>...</td>\n",
       "      <td>...</td>\n",
       "      <td>...</td>\n",
       "    </tr>\n",
       "    <tr>\n",
       "      <th>1980</th>\n",
       "      <td>56</td>\n",
       "      <td>10.2</td>\n",
       "      <td>0</td>\n",
       "      <td>Normal</td>\n",
       "      <td>6.5</td>\n",
       "      <td>25.0</td>\n",
       "      <td>Diuretic</td>\n",
       "      <td>Yes</td>\n",
       "      <td>Low</td>\n",
       "      <td>Non-Smoker</td>\n",
       "      <td>Yes</td>\n",
       "    </tr>\n",
       "    <tr>\n",
       "      <th>1981</th>\n",
       "      <td>29</td>\n",
       "      <td>8.9</td>\n",
       "      <td>4</td>\n",
       "      <td>Hypertension</td>\n",
       "      <td>6.9</td>\n",
       "      <td>16.9</td>\n",
       "      <td>NaN</td>\n",
       "      <td>Yes</td>\n",
       "      <td>High</td>\n",
       "      <td>Non-Smoker</td>\n",
       "      <td>Yes</td>\n",
       "    </tr>\n",
       "    <tr>\n",
       "      <th>1982</th>\n",
       "      <td>64</td>\n",
       "      <td>5.9</td>\n",
       "      <td>9</td>\n",
       "      <td>Normal</td>\n",
       "      <td>5.6</td>\n",
       "      <td>18.9</td>\n",
       "      <td>ACE Inhibitor</td>\n",
       "      <td>Yes</td>\n",
       "      <td>Moderate</td>\n",
       "      <td>Non-Smoker</td>\n",
       "      <td>Yes</td>\n",
       "    </tr>\n",
       "    <tr>\n",
       "      <th>1983</th>\n",
       "      <td>35</td>\n",
       "      <td>7.4</td>\n",
       "      <td>8</td>\n",
       "      <td>Prehypertension</td>\n",
       "      <td>8.2</td>\n",
       "      <td>29.2</td>\n",
       "      <td>NaN</td>\n",
       "      <td>Yes</td>\n",
       "      <td>Moderate</td>\n",
       "      <td>Non-Smoker</td>\n",
       "      <td>No</td>\n",
       "    </tr>\n",
       "    <tr>\n",
       "      <th>1984</th>\n",
       "      <td>38</td>\n",
       "      <td>7.3</td>\n",
       "      <td>0</td>\n",
       "      <td>Normal</td>\n",
       "      <td>8.3</td>\n",
       "      <td>18.6</td>\n",
       "      <td>NaN</td>\n",
       "      <td>Yes</td>\n",
       "      <td>Low</td>\n",
       "      <td>Smoker</td>\n",
       "      <td>No</td>\n",
       "    </tr>\n",
       "  </tbody>\n",
       "</table>\n",
       "<p>1985 rows × 11 columns</p>\n",
       "</div>"
      ],
      "text/plain": [
       "      Age  Salt_Intake  Stress_Score       BP_History  Sleep_Duration   BMI  \\\n",
       "0      69          8.0             9           Normal             6.4  25.8   \n",
       "1      32         11.7            10           Normal             5.4  23.4   \n",
       "2      78          9.5             3           Normal             7.1  18.7   \n",
       "3      38         10.0            10     Hypertension             4.2  22.1   \n",
       "4      41          9.8             1  Prehypertension             5.8  16.2   \n",
       "...   ...          ...           ...              ...             ...   ...   \n",
       "1980   56         10.2             0           Normal             6.5  25.0   \n",
       "1981   29          8.9             4     Hypertension             6.9  16.9   \n",
       "1982   64          5.9             9           Normal             5.6  18.9   \n",
       "1983   35          7.4             8  Prehypertension             8.2  29.2   \n",
       "1984   38          7.3             0           Normal             8.3  18.6   \n",
       "\n",
       "         Medication Family_History Exercise_Level Smoking_Status  \\\n",
       "0               NaN            Yes            Low     Non-Smoker   \n",
       "1               NaN             No            Low     Non-Smoker   \n",
       "2               NaN             No       Moderate     Non-Smoker   \n",
       "3     ACE Inhibitor             No            Low     Non-Smoker   \n",
       "4             Other             No       Moderate     Non-Smoker   \n",
       "...             ...            ...            ...            ...   \n",
       "1980       Diuretic            Yes            Low     Non-Smoker   \n",
       "1981            NaN            Yes           High     Non-Smoker   \n",
       "1982  ACE Inhibitor            Yes       Moderate     Non-Smoker   \n",
       "1983            NaN            Yes       Moderate     Non-Smoker   \n",
       "1984            NaN            Yes            Low         Smoker   \n",
       "\n",
       "     Has_Hypertension  \n",
       "0                 Yes  \n",
       "1                  No  \n",
       "2                  No  \n",
       "3                 Yes  \n",
       "4                  No  \n",
       "...               ...  \n",
       "1980              Yes  \n",
       "1981              Yes  \n",
       "1982              Yes  \n",
       "1983               No  \n",
       "1984               No  \n",
       "\n",
       "[1985 rows x 11 columns]"
      ]
     },
     "execution_count": 3,
     "metadata": {},
     "output_type": "execute_result"
    }
   ],
   "source": [
    "heart_data = pd.read_csv('hypertension_dataset.csv')\n",
    "heart_data"
   ]
  },
  {
   "cell_type": "markdown",
   "id": "286a3a7e",
   "metadata": {},
   "source": [
    "# EDA"
   ]
  },
  {
   "cell_type": "markdown",
   "id": "47a59f63",
   "metadata": {},
   "source": [
    "## Info Check"
   ]
  },
  {
   "cell_type": "code",
   "execution_count": 4,
   "id": "843dbe78",
   "metadata": {},
   "outputs": [
    {
     "name": "stdout",
     "output_type": "stream",
     "text": [
      "<class 'pandas.core.frame.DataFrame'>\n",
      "RangeIndex: 1985 entries, 0 to 1984\n",
      "Data columns (total 11 columns):\n",
      " #   Column            Non-Null Count  Dtype  \n",
      "---  ------            --------------  -----  \n",
      " 0   Age               1985 non-null   int64  \n",
      " 1   Salt_Intake       1985 non-null   float64\n",
      " 2   Stress_Score      1985 non-null   int64  \n",
      " 3   BP_History        1985 non-null   object \n",
      " 4   Sleep_Duration    1985 non-null   float64\n",
      " 5   BMI               1985 non-null   float64\n",
      " 6   Medication        1186 non-null   object \n",
      " 7   Family_History    1985 non-null   object \n",
      " 8   Exercise_Level    1985 non-null   object \n",
      " 9   Smoking_Status    1985 non-null   object \n",
      " 10  Has_Hypertension  1985 non-null   object \n",
      "dtypes: float64(3), int64(2), object(6)\n",
      "memory usage: 170.7+ KB\n"
     ]
    }
   ],
   "source": [
    "heart_data.info()"
   ]
  },
  {
   "cell_type": "markdown",
   "id": "ab5d738d",
   "metadata": {},
   "source": [
    "## Statistical Check"
   ]
  },
  {
   "cell_type": "code",
   "execution_count": 5,
   "id": "2c5832ae",
   "metadata": {},
   "outputs": [
    {
     "data": {
      "text/html": [
       "<div>\n",
       "<style scoped>\n",
       "    .dataframe tbody tr th:only-of-type {\n",
       "        vertical-align: middle;\n",
       "    }\n",
       "\n",
       "    .dataframe tbody tr th {\n",
       "        vertical-align: top;\n",
       "    }\n",
       "\n",
       "    .dataframe thead th {\n",
       "        text-align: right;\n",
       "    }\n",
       "</style>\n",
       "<table border=\"1\" class=\"dataframe\">\n",
       "  <thead>\n",
       "    <tr style=\"text-align: right;\">\n",
       "      <th></th>\n",
       "      <th>Age</th>\n",
       "      <th>Salt_Intake</th>\n",
       "      <th>Stress_Score</th>\n",
       "      <th>Sleep_Duration</th>\n",
       "      <th>BMI</th>\n",
       "    </tr>\n",
       "  </thead>\n",
       "  <tbody>\n",
       "    <tr>\n",
       "      <th>count</th>\n",
       "      <td>1985.000000</td>\n",
       "      <td>1985.000000</td>\n",
       "      <td>1985.000000</td>\n",
       "      <td>1985.000000</td>\n",
       "      <td>1985.000000</td>\n",
       "    </tr>\n",
       "    <tr>\n",
       "      <th>mean</th>\n",
       "      <td>50.341058</td>\n",
       "      <td>8.531688</td>\n",
       "      <td>4.979345</td>\n",
       "      <td>6.452242</td>\n",
       "      <td>26.015315</td>\n",
       "    </tr>\n",
       "    <tr>\n",
       "      <th>std</th>\n",
       "      <td>19.442042</td>\n",
       "      <td>1.994907</td>\n",
       "      <td>3.142303</td>\n",
       "      <td>1.542207</td>\n",
       "      <td>4.512857</td>\n",
       "    </tr>\n",
       "    <tr>\n",
       "      <th>min</th>\n",
       "      <td>18.000000</td>\n",
       "      <td>2.500000</td>\n",
       "      <td>0.000000</td>\n",
       "      <td>1.500000</td>\n",
       "      <td>11.900000</td>\n",
       "    </tr>\n",
       "    <tr>\n",
       "      <th>25%</th>\n",
       "      <td>34.000000</td>\n",
       "      <td>7.200000</td>\n",
       "      <td>2.000000</td>\n",
       "      <td>5.400000</td>\n",
       "      <td>23.000000</td>\n",
       "    </tr>\n",
       "    <tr>\n",
       "      <th>50%</th>\n",
       "      <td>50.000000</td>\n",
       "      <td>8.500000</td>\n",
       "      <td>5.000000</td>\n",
       "      <td>6.500000</td>\n",
       "      <td>25.900000</td>\n",
       "    </tr>\n",
       "    <tr>\n",
       "      <th>75%</th>\n",
       "      <td>67.000000</td>\n",
       "      <td>9.900000</td>\n",
       "      <td>8.000000</td>\n",
       "      <td>7.500000</td>\n",
       "      <td>29.100000</td>\n",
       "    </tr>\n",
       "    <tr>\n",
       "      <th>max</th>\n",
       "      <td>84.000000</td>\n",
       "      <td>16.400000</td>\n",
       "      <td>10.000000</td>\n",
       "      <td>11.400000</td>\n",
       "      <td>41.900000</td>\n",
       "    </tr>\n",
       "  </tbody>\n",
       "</table>\n",
       "</div>"
      ],
      "text/plain": [
       "               Age  Salt_Intake  Stress_Score  Sleep_Duration          BMI\n",
       "count  1985.000000  1985.000000   1985.000000     1985.000000  1985.000000\n",
       "mean     50.341058     8.531688      4.979345        6.452242    26.015315\n",
       "std      19.442042     1.994907      3.142303        1.542207     4.512857\n",
       "min      18.000000     2.500000      0.000000        1.500000    11.900000\n",
       "25%      34.000000     7.200000      2.000000        5.400000    23.000000\n",
       "50%      50.000000     8.500000      5.000000        6.500000    25.900000\n",
       "75%      67.000000     9.900000      8.000000        7.500000    29.100000\n",
       "max      84.000000    16.400000     10.000000       11.400000    41.900000"
      ]
     },
     "execution_count": 5,
     "metadata": {},
     "output_type": "execute_result"
    }
   ],
   "source": [
    "heart_data.describe()"
   ]
  },
  {
   "cell_type": "code",
   "execution_count": null,
   "id": "e26b042b",
   "metadata": {},
   "outputs": [],
   "source": []
  },
  {
   "cell_type": "code",
   "execution_count": 6,
   "id": "0e1fe899",
   "metadata": {},
   "outputs": [
    {
     "name": "stdout",
     "output_type": "stream",
     "text": [
      "Feature: Age\n",
      "Unique values: [18, 19, 20, 21, 22, 23, 24, 25, 26, 27, 28, 29, 30, 31, 32, 33, 34, 35, 36, 37, 38, 39, 40, 41, 42, 43, 44, 45, 46, 47, 48, 49, 50, 51, 52, 53, 54, 55, 56, 57, 58, 59, 60, 61, 62, 63, 64, 65, 66, 67, 68, 69, 70, 71, 72, 73, 74, 75, 76, 77, 78, 79, 80, 81, 82, 83, 84]\n",
      "\n",
      "Feature: Salt_Intake\n",
      "Unique values: [2.5, 2.6, 2.7, 2.8, 3.0, 3.1, 3.2, 3.3, 3.4, 3.5, 3.6, 3.7, 3.8, 3.9, 4.0, 4.1, 4.2, 4.3, 4.4, 4.5, 4.6, 4.7, 4.8, 4.9, 5.0, 5.1, 5.2, 5.3, 5.4, 5.5, 5.6, 5.7, 5.8, 5.9, 6.0, 6.1, 6.2, 6.3, 6.4, 6.5, 6.6, 6.7, 6.8, 6.9, 7.0, 7.1, 7.2, 7.3, 7.4, 7.5, 7.6, 7.7, 7.8, 7.9, 8.0, 8.1, 8.2, 8.3, 8.4, 8.5, 8.6, 8.7, 8.8, 8.9, 9.0, 9.1, 9.2, 9.3, 9.4, 9.5, 9.6, 9.7, 9.8, 9.9, 10.0, 10.1, 10.2, 10.3, 10.4, 10.5, 10.6, 10.7, 10.8, 10.9, 11.0, 11.1, 11.2, 11.3, 11.4, 11.5, 11.6, 11.7, 11.8, 11.9, 12.0, 12.1, 12.2, 12.3, 12.4, 12.5, 12.6, 12.7, 12.8, 12.9, 13.0, 13.1, 13.2, 13.3, 13.4, 13.6, 13.7, 13.8, 13.9, 14.0, 14.2, 14.4, 14.5, 14.7, 14.8, 14.9, 16.4]\n",
      "\n",
      "Feature: Stress_Score\n",
      "Unique values: [0, 1, 2, 3, 4, 5, 6, 7, 8, 9, 10]\n",
      "\n",
      "Feature: BP_History\n",
      "Unique values: ['Hypertension', 'Normal', 'Prehypertension']\n",
      "\n",
      "Feature: Sleep_Duration\n",
      "Unique values: [1.5, 1.6, 1.7, 2.0, 2.2, 2.3, 2.4, 2.5, 2.8, 2.9, 3.0, 3.1, 3.2, 3.3, 3.4, 3.5, 3.6, 3.7, 3.8, 3.9, 4.0, 4.1, 4.2, 4.3, 4.4, 4.5, 4.6, 4.7, 4.8, 4.9, 5.0, 5.1, 5.2, 5.3, 5.4, 5.5, 5.6, 5.7, 5.8, 5.9, 6.0, 6.1, 6.2, 6.3, 6.4, 6.5, 6.6, 6.7, 6.8, 6.9, 7.0, 7.1, 7.2, 7.3, 7.4, 7.5, 7.6, 7.7, 7.8, 7.9, 8.0, 8.1, 8.2, 8.3, 8.4, 8.5, 8.6, 8.7, 8.8, 8.9, 9.0, 9.1, 9.2, 9.3, 9.4, 9.5, 9.6, 9.7, 9.8, 9.9, 10.0, 10.1, 10.2, 10.3, 10.6, 10.8, 11.0, 11.4]\n",
      "\n",
      "Feature: BMI\n",
      "Unique values: [11.9, 12.0, 12.4, 12.8, 12.9, 13.3, 13.4, 13.8, 14.1, 14.3, 14.8, 14.9, 15.0, 15.1, 15.6, 15.8, 15.9, 16.0, 16.1, 16.2, 16.3, 16.4, 16.5, 16.6, 16.7, 16.8, 16.9, 17.0, 17.1, 17.2, 17.3, 17.4, 17.5, 17.6, 17.7, 17.8, 17.9, 18.0, 18.1, 18.2, 18.3, 18.4, 18.5, 18.6, 18.7, 18.8, 18.9, 19.0, 19.1, 19.2, 19.3, 19.4, 19.5, 19.6, 19.7, 19.8, 19.9, 20.0, 20.1, 20.2, 20.3, 20.4, 20.5, 20.6, 20.7, 20.8, 20.9, 21.0, 21.1, 21.2, 21.3, 21.4, 21.5, 21.6, 21.7, 21.8, 21.9, 22.0, 22.1, 22.2, 22.3, 22.4, 22.5, 22.6, 22.7, 22.8, 22.9, 23.0, 23.1, 23.2, 23.3, 23.4, 23.5, 23.6, 23.7, 23.8, 23.9, 24.0, 24.1, 24.2, 24.3, 24.4, 24.5, 24.6, 24.7, 24.8, 24.9, 25.0, 25.1, 25.2, 25.3, 25.4, 25.5, 25.6, 25.7, 25.8, 25.9, 26.0, 26.1, 26.2, 26.3, 26.4, 26.5, 26.6, 26.7, 26.8, 26.9, 27.0, 27.1, 27.2, 27.3, 27.4, 27.5, 27.6, 27.7, 27.8, 27.9, 28.0, 28.1, 28.2, 28.3, 28.4, 28.5, 28.6, 28.7, 28.8, 28.9, 29.0, 29.1, 29.2, 29.3, 29.4, 29.5, 29.6, 29.7, 29.8, 29.9, 30.0, 30.1, 30.2, 30.3, 30.4, 30.5, 30.6, 30.7, 30.8, 30.9, 31.0, 31.1, 31.2, 31.3, 31.4, 31.5, 31.6, 31.7, 31.8, 31.9, 32.0, 32.1, 32.2, 32.3, 32.4, 32.5, 32.6, 32.7, 32.8, 32.9, 33.0, 33.1, 33.2, 33.3, 33.4, 33.5, 33.6, 33.7, 33.8, 33.9, 34.0, 34.1, 34.2, 34.3, 34.4, 34.5, 34.6, 34.7, 34.8, 34.9, 35.0, 35.1, 35.2, 35.3, 35.4, 35.5, 35.6, 35.7, 35.8, 35.9, 36.1, 36.3, 36.5, 36.7, 36.9, 37.1, 37.3, 37.4, 37.6, 37.7, 37.8, 37.9, 38.1, 38.3, 38.4, 39.0, 40.2, 41.3, 41.9]\n",
      "\n"
     ]
    },
    {
     "ename": "TypeError",
     "evalue": "'<' not supported between instances of 'str' and 'float'",
     "output_type": "error",
     "traceback": [
      "\u001b[0;31m---------------------------------------------------------------------------\u001b[0m",
      "\u001b[0;31mTypeError\u001b[0m                                 Traceback (most recent call last)",
      "Cell \u001b[0;32mIn[6], line 2\u001b[0m\n\u001b[1;32m      1\u001b[0m \u001b[38;5;28;01mfor\u001b[39;00m column \u001b[38;5;129;01min\u001b[39;00m heart_data:\n\u001b[0;32m----> 2\u001b[0m     unique_vals \u001b[38;5;241m=\u001b[39m \u001b[38;5;28msorted\u001b[39m(heart_data[column]\u001b[38;5;241m.\u001b[39munique())\n\u001b[1;32m      3\u001b[0m     \u001b[38;5;28mprint\u001b[39m(\u001b[38;5;124mf\u001b[39m\u001b[38;5;124m\"\u001b[39m\u001b[38;5;124mFeature: \u001b[39m\u001b[38;5;132;01m{\u001b[39;00mcolumn\u001b[38;5;132;01m}\u001b[39;00m\u001b[38;5;124m\"\u001b[39m)\n\u001b[1;32m      4\u001b[0m     \u001b[38;5;28mprint\u001b[39m(\u001b[38;5;124mf\u001b[39m\u001b[38;5;124m\"\u001b[39m\u001b[38;5;124mUnique values: \u001b[39m\u001b[38;5;132;01m{\u001b[39;00munique_vals\u001b[38;5;132;01m}\u001b[39;00m\u001b[38;5;130;01m\\n\u001b[39;00m\u001b[38;5;124m\"\u001b[39m)\n",
      "\u001b[0;31mTypeError\u001b[0m: '<' not supported between instances of 'str' and 'float'"
     ]
    }
   ],
   "source": [
    "for column in heart_data:\n",
    "    unique_vals = sorted(heart_data[column].unique())\n",
    "    print(f\"Feature: {column}\")\n",
    "    print(f\"Unique values: {unique_vals}\\n\")\n"
   ]
  },
  {
   "cell_type": "code",
   "execution_count": null,
   "id": "5b0e2303",
   "metadata": {},
   "outputs": [
    {
     "data": {
      "text/plain": [
       "Age                   0\n",
       "Salt_Intake           0\n",
       "Stress_Score          0\n",
       "BP_History            0\n",
       "Sleep_Duration        0\n",
       "BMI                   0\n",
       "Medication          799\n",
       "Family_History        0\n",
       "Exercise_Level        0\n",
       "Smoking_Status        0\n",
       "Has_Hypertension      0\n",
       "dtype: int64"
      ]
     },
     "execution_count": 40,
     "metadata": {},
     "output_type": "execute_result"
    }
   ],
   "source": [
    "heart_data.isnull().sum()"
   ]
  },
  {
   "cell_type": "markdown",
   "id": "a3f47f33",
   "metadata": {},
   "source": [
    "## Imbalance Data Check"
   ]
  },
  {
   "cell_type": "code",
   "execution_count": null,
   "id": "d2163a41",
   "metadata": {},
   "outputs": [
    {
     "data": {
      "text/html": [
       "<div>\n",
       "<style scoped>\n",
       "    .dataframe tbody tr th:only-of-type {\n",
       "        vertical-align: middle;\n",
       "    }\n",
       "\n",
       "    .dataframe tbody tr th {\n",
       "        vertical-align: top;\n",
       "    }\n",
       "\n",
       "    .dataframe thead th {\n",
       "        text-align: right;\n",
       "    }\n",
       "</style>\n",
       "<table border=\"1\" class=\"dataframe\">\n",
       "  <thead>\n",
       "    <tr style=\"text-align: right;\">\n",
       "      <th></th>\n",
       "      <th>proportion</th>\n",
       "    </tr>\n",
       "    <tr>\n",
       "      <th>Has_Hypertension</th>\n",
       "      <th></th>\n",
       "    </tr>\n",
       "  </thead>\n",
       "  <tbody>\n",
       "    <tr>\n",
       "      <th>Yes</th>\n",
       "      <td>0.519899</td>\n",
       "    </tr>\n",
       "    <tr>\n",
       "      <th>No</th>\n",
       "      <td>0.480101</td>\n",
       "    </tr>\n",
       "  </tbody>\n",
       "</table>\n",
       "</div>"
      ],
      "text/plain": [
       "                  proportion\n",
       "Has_Hypertension            \n",
       "Yes                 0.519899\n",
       "No                  0.480101"
      ]
     },
     "execution_count": 41,
     "metadata": {},
     "output_type": "execute_result"
    }
   ],
   "source": [
    "balance_check = heart_data['Has_Hypertension'].value_counts(normalize=True)\n",
    "balance_check = pd.DataFrame(balance_check)\n",
    "balance_check"
   ]
  },
  {
   "cell_type": "code",
   "execution_count": null,
   "id": "3cdb1c93",
   "metadata": {},
   "outputs": [
    {
     "name": "stdout",
     "output_type": "stream",
     "text": [
      "The dataset is balanced.\n"
     ]
    }
   ],
   "source": [
    "threshold = 0.05\n",
    "max_diff = abs(balance_check['proportion'].max() - balance_check['proportion'].min())\n",
    "if max_diff <= threshold:\n",
    "    print(\"The dataset is balanced.\")\n",
    "else:\n",
    "    print(\"The dataset is imbalanced.\")\n"
   ]
  },
  {
   "cell_type": "markdown",
   "id": "7fe03c2e",
   "metadata": {},
   "source": [
    "## Fill Null"
   ]
  },
  {
   "cell_type": "code",
   "execution_count": null,
   "id": "bebfbb29",
   "metadata": {},
   "outputs": [],
   "source": [
    "heart_data.fillna('no', inplace=True)"
   ]
  },
  {
   "cell_type": "markdown",
   "id": "661b5b23",
   "metadata": {},
   "source": [
    "## Label Encoder"
   ]
  },
  {
   "cell_type": "code",
   "execution_count": null,
   "id": "fb26266f",
   "metadata": {},
   "outputs": [],
   "source": [
    "heart_data_df = heart_data\n",
    "\n",
    "# Identify string-type columns\n",
    "string_cols = heart_data_df.select_dtypes(include='object').columns\n",
    "\n",
    "# Create encoder storage\n",
    "encoders = {}\n",
    "\n",
    "# Apply LabelEncoder and store each encoder\n",
    "for col in string_cols:\n",
    "    le = LabelEncoder()\n",
    "    heart_data_df[col] = le.fit_transform(heart_data[col])\n",
    "    encoders[col] = le  # Store for inverse_transform later"
   ]
  },
  {
   "cell_type": "markdown",
   "id": "11fca9a2",
   "metadata": {},
   "source": [
    "## Correlation Matrix"
   ]
  },
  {
   "cell_type": "code",
   "execution_count": null,
   "id": "5157e0c9",
   "metadata": {},
   "outputs": [
    {
     "data": {
      "text/plain": [
       "<Axes: >"
      ]
     },
     "execution_count": 45,
     "metadata": {},
     "output_type": "execute_result"
    },
    {
     "data": {
      "image/png": "[encoded data removed]",
      "text/plain": [
       "<Figure size 2000x2000 with 2 Axes>"
      ]
     },
     "metadata": {},
     "output_type": "display_data"
    }
   ],
   "source": [
    "plt.figure(figsize= (20,20))\n",
    "corr_matrix = heart_data_df.corr(numeric_only=True)\n",
    "sns.heatmap(corr_matrix, annot = True)"
   ]
  },
  {
   "cell_type": "markdown",
   "id": "fdc21ce4",
   "metadata": {},
   "source": [
    "## Relevant Features Selection"
   ]
  },
  {
   "cell_type": "code",
   "execution_count": null,
   "id": "03d70fe5",
   "metadata": {},
   "outputs": [
    {
     "data": {
      "text/plain": [
       "['Age',\n",
       " 'Salt_Intake',\n",
       " 'Stress_Score',\n",
       " 'BP_History',\n",
       " 'Sleep_Duration',\n",
       " 'BMI',\n",
       " 'Family_History',\n",
       " 'Smoking_Status']"
      ]
     },
     "execution_count": 46,
     "metadata": {},
     "output_type": "execute_result"
    }
   ],
   "source": [
    "target_feature = 'Has_Hypertension'\n",
    "relevant_features = corr_matrix[target_feature][((corr_matrix[target_feature] >= 0.1) & (corr_matrix[target_feature] < 1)) | ((corr_matrix[target_feature] <= -0.1) & (corr_matrix[target_feature]>-1))].index.tolist()\n",
    "relevant_features"
   ]
  },
  {
   "cell_type": "markdown",
   "id": "a811bb6c",
   "metadata": {},
   "source": [
    "# Feature Engineering"
   ]
  },
  {
   "cell_type": "markdown",
   "id": "37bec837",
   "metadata": {},
   "source": [
    "## Data Preprocessing"
   ]
  },
  {
   "cell_type": "code",
   "execution_count": null,
   "id": "27399dfa",
   "metadata": {},
   "outputs": [],
   "source": [
    "y = heart_data_df.iloc[:, -1].values\n",
    "X = heart_data_df[relevant_features]\n"
   ]
  },
  {
   "cell_type": "markdown",
   "id": "06685c91",
   "metadata": {},
   "source": [
    "## Train Test Split"
   ]
  },
  {
   "cell_type": "code",
   "execution_count": null,
   "id": "31d8002d",
   "metadata": {},
   "outputs": [],
   "source": [
    "X_train,X_test,y_train,y_test = train_test_split(X,y,test_size=0.2,random_state=randstate)"
   ]
  },
  {
   "cell_type": "code",
   "execution_count": null,
   "id": "010ffb5f",
   "metadata": {},
   "outputs": [
    {
     "data": {
      "text/html": [
       "<div>\n",
       "<style scoped>\n",
       "    .dataframe tbody tr th:only-of-type {\n",
       "        vertical-align: middle;\n",
       "    }\n",
       "\n",
       "    .dataframe tbody tr th {\n",
       "        vertical-align: top;\n",
       "    }\n",
       "\n",
       "    .dataframe thead th {\n",
       "        text-align: right;\n",
       "    }\n",
       "</style>\n",
       "<table border=\"1\" class=\"dataframe\">\n",
       "  <thead>\n",
       "    <tr style=\"text-align: right;\">\n",
       "      <th></th>\n",
       "      <th>Age</th>\n",
       "      <th>Salt_Intake</th>\n",
       "      <th>Stress_Score</th>\n",
       "      <th>BP_History</th>\n",
       "      <th>Sleep_Duration</th>\n",
       "      <th>BMI</th>\n",
       "      <th>Family_History</th>\n",
       "      <th>Smoking_Status</th>\n",
       "    </tr>\n",
       "  </thead>\n",
       "  <tbody>\n",
       "    <tr>\n",
       "      <th>1379</th>\n",
       "      <td>43</td>\n",
       "      <td>10.1</td>\n",
       "      <td>6</td>\n",
       "      <td>0</td>\n",
       "      <td>5.7</td>\n",
       "      <td>29.7</td>\n",
       "      <td>1</td>\n",
       "      <td>1</td>\n",
       "    </tr>\n",
       "    <tr>\n",
       "      <th>1733</th>\n",
       "      <td>53</td>\n",
       "      <td>7.7</td>\n",
       "      <td>5</td>\n",
       "      <td>2</td>\n",
       "      <td>4.6</td>\n",
       "      <td>14.8</td>\n",
       "      <td>0</td>\n",
       "      <td>0</td>\n",
       "    </tr>\n",
       "    <tr>\n",
       "      <th>480</th>\n",
       "      <td>30</td>\n",
       "      <td>6.9</td>\n",
       "      <td>5</td>\n",
       "      <td>1</td>\n",
       "      <td>2.5</td>\n",
       "      <td>28.1</td>\n",
       "      <td>1</td>\n",
       "      <td>0</td>\n",
       "    </tr>\n",
       "    <tr>\n",
       "      <th>1885</th>\n",
       "      <td>51</td>\n",
       "      <td>6.7</td>\n",
       "      <td>10</td>\n",
       "      <td>1</td>\n",
       "      <td>9.0</td>\n",
       "      <td>29.8</td>\n",
       "      <td>0</td>\n",
       "      <td>1</td>\n",
       "    </tr>\n",
       "    <tr>\n",
       "      <th>22</th>\n",
       "      <td>32</td>\n",
       "      <td>11.1</td>\n",
       "      <td>0</td>\n",
       "      <td>0</td>\n",
       "      <td>4.6</td>\n",
       "      <td>25.2</td>\n",
       "      <td>1</td>\n",
       "      <td>0</td>\n",
       "    </tr>\n",
       "    <tr>\n",
       "      <th>...</th>\n",
       "      <td>...</td>\n",
       "      <td>...</td>\n",
       "      <td>...</td>\n",
       "      <td>...</td>\n",
       "      <td>...</td>\n",
       "      <td>...</td>\n",
       "      <td>...</td>\n",
       "      <td>...</td>\n",
       "    </tr>\n",
       "    <tr>\n",
       "      <th>1283</th>\n",
       "      <td>28</td>\n",
       "      <td>8.7</td>\n",
       "      <td>3</td>\n",
       "      <td>2</td>\n",
       "      <td>7.1</td>\n",
       "      <td>23.4</td>\n",
       "      <td>1</td>\n",
       "      <td>0</td>\n",
       "    </tr>\n",
       "    <tr>\n",
       "      <th>1056</th>\n",
       "      <td>52</td>\n",
       "      <td>7.5</td>\n",
       "      <td>2</td>\n",
       "      <td>0</td>\n",
       "      <td>7.0</td>\n",
       "      <td>26.7</td>\n",
       "      <td>1</td>\n",
       "      <td>0</td>\n",
       "    </tr>\n",
       "    <tr>\n",
       "      <th>1302</th>\n",
       "      <td>44</td>\n",
       "      <td>11.6</td>\n",
       "      <td>9</td>\n",
       "      <td>1</td>\n",
       "      <td>7.1</td>\n",
       "      <td>27.0</td>\n",
       "      <td>0</td>\n",
       "      <td>0</td>\n",
       "    </tr>\n",
       "    <tr>\n",
       "      <th>1541</th>\n",
       "      <td>18</td>\n",
       "      <td>6.8</td>\n",
       "      <td>10</td>\n",
       "      <td>1</td>\n",
       "      <td>6.0</td>\n",
       "      <td>23.8</td>\n",
       "      <td>1</td>\n",
       "      <td>0</td>\n",
       "    </tr>\n",
       "    <tr>\n",
       "      <th>1281</th>\n",
       "      <td>24</td>\n",
       "      <td>10.3</td>\n",
       "      <td>1</td>\n",
       "      <td>1</td>\n",
       "      <td>8.3</td>\n",
       "      <td>21.0</td>\n",
       "      <td>1</td>\n",
       "      <td>0</td>\n",
       "    </tr>\n",
       "  </tbody>\n",
       "</table>\n",
       "<p>1588 rows × 8 columns</p>\n",
       "</div>"
      ],
      "text/plain": [
       "      Age  Salt_Intake  Stress_Score  BP_History  Sleep_Duration   BMI  \\\n",
       "1379   43         10.1             6           0             5.7  29.7   \n",
       "1733   53          7.7             5           2             4.6  14.8   \n",
       "480    30          6.9             5           1             2.5  28.1   \n",
       "1885   51          6.7            10           1             9.0  29.8   \n",
       "22     32         11.1             0           0             4.6  25.2   \n",
       "...   ...          ...           ...         ...             ...   ...   \n",
       "1283   28          8.7             3           2             7.1  23.4   \n",
       "1056   52          7.5             2           0             7.0  26.7   \n",
       "1302   44         11.6             9           1             7.1  27.0   \n",
       "1541   18          6.8            10           1             6.0  23.8   \n",
       "1281   24         10.3             1           1             8.3  21.0   \n",
       "\n",
       "      Family_History  Smoking_Status  \n",
       "1379               1               1  \n",
       "1733               0               0  \n",
       "480                1               0  \n",
       "1885               0               1  \n",
       "22                 1               0  \n",
       "...              ...             ...  \n",
       "1283               1               0  \n",
       "1056               1               0  \n",
       "1302               0               0  \n",
       "1541               1               0  \n",
       "1281               1               0  \n",
       "\n",
       "[1588 rows x 8 columns]"
      ]
     },
     "execution_count": 60,
     "metadata": {},
     "output_type": "execute_result"
    }
   ],
   "source": [
    "X_train"
   ]
  },
  {
   "cell_type": "code",
   "execution_count": null,
   "id": "4876d337",
   "metadata": {},
   "outputs": [
    {
     "data": {
      "text/html": [
       "<div>\n",
       "<style scoped>\n",
       "    .dataframe tbody tr th:only-of-type {\n",
       "        vertical-align: middle;\n",
       "    }\n",
       "\n",
       "    .dataframe tbody tr th {\n",
       "        vertical-align: top;\n",
       "    }\n",
       "\n",
       "    .dataframe thead th {\n",
       "        text-align: right;\n",
       "    }\n",
       "</style>\n",
       "<table border=\"1\" class=\"dataframe\">\n",
       "  <thead>\n",
       "    <tr style=\"text-align: right;\">\n",
       "      <th></th>\n",
       "      <th>Age</th>\n",
       "      <th>Salt_Intake</th>\n",
       "      <th>Stress_Score</th>\n",
       "      <th>BP_History</th>\n",
       "      <th>Sleep_Duration</th>\n",
       "      <th>BMI</th>\n",
       "      <th>Family_History</th>\n",
       "      <th>Smoking_Status</th>\n",
       "    </tr>\n",
       "  </thead>\n",
       "  <tbody>\n",
       "    <tr>\n",
       "      <th>943</th>\n",
       "      <td>25</td>\n",
       "      <td>9.0</td>\n",
       "      <td>8</td>\n",
       "      <td>0</td>\n",
       "      <td>8.1</td>\n",
       "      <td>31.2</td>\n",
       "      <td>0</td>\n",
       "      <td>1</td>\n",
       "    </tr>\n",
       "    <tr>\n",
       "      <th>697</th>\n",
       "      <td>50</td>\n",
       "      <td>9.7</td>\n",
       "      <td>8</td>\n",
       "      <td>1</td>\n",
       "      <td>6.9</td>\n",
       "      <td>23.8</td>\n",
       "      <td>0</td>\n",
       "      <td>1</td>\n",
       "    </tr>\n",
       "    <tr>\n",
       "      <th>129</th>\n",
       "      <td>79</td>\n",
       "      <td>7.9</td>\n",
       "      <td>9</td>\n",
       "      <td>1</td>\n",
       "      <td>4.7</td>\n",
       "      <td>23.0</td>\n",
       "      <td>1</td>\n",
       "      <td>0</td>\n",
       "    </tr>\n",
       "    <tr>\n",
       "      <th>181</th>\n",
       "      <td>50</td>\n",
       "      <td>7.0</td>\n",
       "      <td>6</td>\n",
       "      <td>1</td>\n",
       "      <td>7.8</td>\n",
       "      <td>23.2</td>\n",
       "      <td>0</td>\n",
       "      <td>0</td>\n",
       "    </tr>\n",
       "    <tr>\n",
       "      <th>1025</th>\n",
       "      <td>68</td>\n",
       "      <td>10.0</td>\n",
       "      <td>1</td>\n",
       "      <td>1</td>\n",
       "      <td>5.6</td>\n",
       "      <td>28.6</td>\n",
       "      <td>0</td>\n",
       "      <td>1</td>\n",
       "    </tr>\n",
       "    <tr>\n",
       "      <th>...</th>\n",
       "      <td>...</td>\n",
       "      <td>...</td>\n",
       "      <td>...</td>\n",
       "      <td>...</td>\n",
       "      <td>...</td>\n",
       "      <td>...</td>\n",
       "      <td>...</td>\n",
       "      <td>...</td>\n",
       "    </tr>\n",
       "    <tr>\n",
       "      <th>1274</th>\n",
       "      <td>67</td>\n",
       "      <td>6.9</td>\n",
       "      <td>6</td>\n",
       "      <td>0</td>\n",
       "      <td>8.8</td>\n",
       "      <td>25.9</td>\n",
       "      <td>0</td>\n",
       "      <td>0</td>\n",
       "    </tr>\n",
       "    <tr>\n",
       "      <th>265</th>\n",
       "      <td>42</td>\n",
       "      <td>9.5</td>\n",
       "      <td>4</td>\n",
       "      <td>1</td>\n",
       "      <td>9.1</td>\n",
       "      <td>29.6</td>\n",
       "      <td>1</td>\n",
       "      <td>0</td>\n",
       "    </tr>\n",
       "    <tr>\n",
       "      <th>1674</th>\n",
       "      <td>66</td>\n",
       "      <td>6.2</td>\n",
       "      <td>9</td>\n",
       "      <td>2</td>\n",
       "      <td>6.6</td>\n",
       "      <td>25.9</td>\n",
       "      <td>1</td>\n",
       "      <td>1</td>\n",
       "    </tr>\n",
       "    <tr>\n",
       "      <th>721</th>\n",
       "      <td>43</td>\n",
       "      <td>7.9</td>\n",
       "      <td>8</td>\n",
       "      <td>1</td>\n",
       "      <td>5.7</td>\n",
       "      <td>27.4</td>\n",
       "      <td>0</td>\n",
       "      <td>1</td>\n",
       "    </tr>\n",
       "    <tr>\n",
       "      <th>1533</th>\n",
       "      <td>40</td>\n",
       "      <td>9.0</td>\n",
       "      <td>7</td>\n",
       "      <td>2</td>\n",
       "      <td>5.2</td>\n",
       "      <td>29.1</td>\n",
       "      <td>0</td>\n",
       "      <td>1</td>\n",
       "    </tr>\n",
       "  </tbody>\n",
       "</table>\n",
       "<p>397 rows × 8 columns</p>\n",
       "</div>"
      ],
      "text/plain": [
       "      Age  Salt_Intake  Stress_Score  BP_History  Sleep_Duration   BMI  \\\n",
       "943    25          9.0             8           0             8.1  31.2   \n",
       "697    50          9.7             8           1             6.9  23.8   \n",
       "129    79          7.9             9           1             4.7  23.0   \n",
       "181    50          7.0             6           1             7.8  23.2   \n",
       "1025   68         10.0             1           1             5.6  28.6   \n",
       "...   ...          ...           ...         ...             ...   ...   \n",
       "1274   67          6.9             6           0             8.8  25.9   \n",
       "265    42          9.5             4           1             9.1  29.6   \n",
       "1674   66          6.2             9           2             6.6  25.9   \n",
       "721    43          7.9             8           1             5.7  27.4   \n",
       "1533   40          9.0             7           2             5.2  29.1   \n",
       "\n",
       "      Family_History  Smoking_Status  \n",
       "943                0               1  \n",
       "697                0               1  \n",
       "129                1               0  \n",
       "181                0               0  \n",
       "1025               0               1  \n",
       "...              ...             ...  \n",
       "1274               0               0  \n",
       "265                1               0  \n",
       "1674               1               1  \n",
       "721                0               1  \n",
       "1533               0               1  \n",
       "\n",
       "[397 rows x 8 columns]"
      ]
     },
     "execution_count": 61,
     "metadata": {},
     "output_type": "execute_result"
    }
   ],
   "source": [
    "X_test"
   ]
  },
  {
   "cell_type": "code",
   "execution_count": null,
   "id": "5736adf9",
   "metadata": {},
   "outputs": [
    {
     "data": {
      "text/plain": [
       "array([1, 0, 0, ..., 0, 0, 0])"
      ]
     },
     "execution_count": 62,
     "metadata": {},
     "output_type": "execute_result"
    }
   ],
   "source": [
    "y_train"
   ]
  },
  {
   "cell_type": "code",
   "execution_count": null,
   "id": "3b23ec4c",
   "metadata": {},
   "outputs": [
    {
     "data": {
      "text/plain": [
       "array([1, 0, 1, 0, 0, 0, 0, 0, 0, 1, 1, 0, 0, 0, 0, 0, 1, 0, 0, 1, 1, 0,\n",
       "       1, 0, 0, 1, 0, 1, 0, 1, 1, 0, 1, 0, 0, 1, 1, 1, 0, 0, 0, 0, 0, 0,\n",
       "       1, 0, 0, 0, 0, 1, 1, 1, 1, 1, 1, 0, 0, 0, 0, 0, 0, 1, 1, 0, 0, 0,\n",
       "       0, 1, 0, 0, 0, 1, 0, 1, 1, 1, 1, 1, 1, 1, 1, 0, 1, 1, 0, 0, 0, 0,\n",
       "       0, 0, 1, 1, 1, 1, 0, 1, 0, 1, 1, 0, 0, 0, 1, 0, 0, 0, 1, 0, 0, 1,\n",
       "       0, 1, 0, 1, 1, 1, 0, 0, 0, 0, 0, 1, 1, 1, 1, 0, 0, 0, 1, 0, 1, 1,\n",
       "       0, 1, 1, 1, 0, 1, 1, 1, 1, 1, 0, 1, 1, 0, 1, 1, 0, 0, 1, 1, 1, 0,\n",
       "       0, 0, 0, 0, 1, 1, 1, 0, 1, 1, 0, 1, 0, 1, 1, 1, 0, 1, 1, 1, 1, 1,\n",
       "       1, 1, 0, 1, 1, 1, 0, 0, 1, 0, 0, 0, 1, 1, 0, 1, 0, 1, 0, 1, 1, 0,\n",
       "       1, 0, 0, 1, 1, 0, 0, 1, 1, 0, 1, 0, 1, 1, 0, 0, 0, 0, 1, 0, 1, 1,\n",
       "       0, 1, 1, 0, 0, 0, 1, 0, 0, 0, 1, 1, 1, 1, 0, 0, 0, 1, 0, 1, 1, 0,\n",
       "       1, 1, 1, 0, 0, 0, 0, 0, 1, 1, 0, 1, 1, 1, 0, 1, 0, 0, 1, 0, 1, 0,\n",
       "       0, 1, 1, 0, 1, 0, 1, 0, 1, 0, 0, 1, 0, 1, 1, 1, 0, 1, 1, 1, 1, 1,\n",
       "       1, 0, 0, 1, 1, 1, 1, 1, 0, 0, 0, 0, 0, 1, 0, 0, 0, 1, 1, 0, 0, 1,\n",
       "       0, 0, 1, 1, 1, 0, 1, 0, 1, 1, 0, 1, 1, 0, 0, 1, 1, 1, 1, 0, 1, 0,\n",
       "       0, 1, 0, 0, 0, 0, 1, 0, 0, 0, 1, 1, 0, 1, 0, 0, 1, 1, 1, 1, 0, 0,\n",
       "       1, 0, 0, 0, 1, 1, 0, 0, 0, 1, 1, 0, 1, 1, 1, 1, 0, 1, 1, 1, 1, 1,\n",
       "       1, 1, 1, 1, 1, 1, 1, 0, 0, 1, 1, 0, 1, 0, 1, 0, 1, 1, 1, 0, 1, 0,\n",
       "       0])"
      ]
     },
     "execution_count": 63,
     "metadata": {},
     "output_type": "execute_result"
    }
   ],
   "source": [
    "y_test"
   ]
  },
  {
   "cell_type": "markdown",
   "id": "eb5c59ee",
   "metadata": {},
   "source": [
    "# Modelling"
   ]
  },
  {
   "cell_type": "markdown",
   "id": "10ebb4be",
   "metadata": {},
   "source": [
    "## Logistic Regression"
   ]
  },
  {
   "cell_type": "code",
   "execution_count": null,
   "id": "5be144b7",
   "metadata": {},
   "outputs": [
    {
     "name": "stdout",
     "output_type": "stream",
     "text": [
      "Akurasi Logistic Regression : 0.7959697732997482\n",
      "              precision    recall  f1-score   support\n",
      "\n",
      "           0       0.77      0.82      0.79       191\n",
      "           1       0.82      0.77      0.80       206\n",
      "\n",
      "    accuracy                           0.80       397\n",
      "   macro avg       0.80      0.80      0.80       397\n",
      "weighted avg       0.80      0.80      0.80       397\n",
      "\n"
     ]
    }
   ],
   "source": [
    "lr_model = LogisticRegression(max_iter=maxiter, class_weight=classweight)\n",
    "lr_model.fit(X_train, y_train)\n",
    "lr_y_pred = lr_model.predict(X_test)\n",
    "print(\"Akurasi Logistic Regression :\", accuracy_score(y_test, lr_y_pred))\n",
    "print(classification_report(y_test, lr_y_pred))"
   ]
  },
  {
   "cell_type": "markdown",
   "id": "6406b8ee",
   "metadata": {},
   "source": [
    "## Hyper Parameter Tuning"
   ]
  },
  {
   "cell_type": "code",
   "execution_count": null,
   "id": "91502eb0",
   "metadata": {},
   "outputs": [
    {
     "name": "stdout",
     "output_type": "stream",
     "text": [
      "Fitting 5 folds for each of 20 candidates, totalling 100 fits\n",
      "\n",
      "Logistic Regression\n",
      "Best Parameters : {'logreg__C': 0.01, 'logreg__class_weight': None, 'logreg__penalty': 'l2'}\n",
      "Best Score : 0.839966006675394\n"
     ]
    }
   ],
   "source": [
    "# Pipeline: scaling + logistic regression (karena logistic regression sensitif terhadap skala fitur)\n",
    "pipeline = Pipeline([\n",
    "    ('scaler', StandardScaler()),\n",
    "    ('logreg', LogisticRegression(solver='liblinear', max_iter=maxiter))  # liblinear cocok untuk dataset kecil/imbalance\n",
    "])\n",
    "\n",
    "# Parameter grid\n",
    "param_grid = {\n",
    "    'logreg__penalty': ['l1', 'l2'],             # Jenis regularisasi\n",
    "    'logreg__C': [0.01, 0.1, 1, 10, 100],        # Regularisasi: makin kecil = makin kuat regularisasinya\n",
    "    'logreg__class_weight': [None, classweight]   # Untuk data imbalance\n",
    "}\n",
    "\n",
    "# GridSearchCV\n",
    "lr_grid_search = GridSearchCV(\n",
    "    estimator=pipeline,\n",
    "    param_grid=param_grid,\n",
    "    scoring='f1',     # digunakan agar model fokus pada deteksi Fraud (positif minoritas), karena data tidak seimbang\n",
    "    cv=5,\n",
    "    n_jobs=-1,\n",
    "    verbose=1\n",
    ")\n",
    "\n",
    "lr_grid_search.fit(X_train, y_train)\n",
    "print(\"\\nLogistic Regression\")\n",
    "print(\"Best Parameters :\", lr_grid_search.best_params_)\n",
    "print(\"Best Score :\", lr_grid_search.best_score_)"
   ]
  },
  {
   "cell_type": "markdown",
   "id": "857c9f05",
   "metadata": {},
   "source": [
    "## Random Forest"
   ]
  },
  {
   "cell_type": "code",
   "execution_count": null,
   "id": "8eab4328",
   "metadata": {},
   "outputs": [
    {
     "name": "stdout",
     "output_type": "stream",
     "text": [
      "Random Forest : 0.9571788413098237\n",
      "              precision    recall  f1-score   support\n",
      "\n",
      "           0       0.96      0.95      0.96       191\n",
      "           1       0.96      0.96      0.96       206\n",
      "\n",
      "    accuracy                           0.96       397\n",
      "   macro avg       0.96      0.96      0.96       397\n",
      "weighted avg       0.96      0.96      0.96       397\n",
      "\n"
     ]
    }
   ],
   "source": [
    "rf_model = RandomForestClassifier(n_estimators=nestimator, class_weight=classweight, random_state=randstate)\n",
    "\n",
    "#latih Model\n",
    "rf_model.fit(X_train, y_train)\n",
    "\n",
    "# Evaluasi tetap dilakukan di test set asli (X_test, y_test)\n",
    "rf_y_pred = rf_model.predict(X_test)\n",
    "print(\"Random Forest :\", accuracy_score(y_test, rf_y_pred))\n",
    "print(classification_report(y_test, rf_y_pred))"
   ]
  },
  {
   "cell_type": "markdown",
   "id": "05e05006",
   "metadata": {},
   "source": [
    "## Model Comparison\n"
   ]
  },
  {
   "cell_type": "code",
   "execution_count": null,
   "id": "f3d642a8",
   "metadata": {},
   "outputs": [
    {
     "name": "stdout",
     "output_type": "stream",
     "text": [
      "=== Logistic Regression ===\n",
      "              precision    recall  f1-score   support\n",
      "\n",
      "           0       0.77      0.82      0.79       191\n",
      "           1       0.82      0.77      0.80       206\n",
      "\n",
      "    accuracy                           0.80       397\n",
      "   macro avg       0.80      0.80      0.80       397\n",
      "weighted avg       0.80      0.80      0.80       397\n",
      "\n",
      "ROC AUC : 0.8742438875616327\n",
      "\n",
      "=== Random Forest ===\n",
      "              precision    recall  f1-score   support\n",
      "\n",
      "           0       0.96      0.95      0.96       191\n",
      "           1       0.96      0.96      0.96       206\n",
      "\n",
      "    accuracy                           0.96       397\n",
      "   macro avg       0.96      0.96      0.96       397\n",
      "weighted avg       0.96      0.96      0.96       397\n",
      "\n",
      "ROC AUC: 0.9948533523102729\n"
     ]
    },
    {
     "data": {
      "image/png": "[encoded data removed]",
      "text/plain": [
       "<Figure size 1200x500 with 4 Axes>"
      ]
     },
     "metadata": {},
     "output_type": "display_data"
    }
   ],
   "source": [
    "lr_y_proba = lr_model.predict_proba(X_test)[:, 1]\n",
    "rf_y_proba = rf_model.predict_proba(X_test)[:, 1]\n",
    "\n",
    "# ========================================================================\n",
    "\n",
    "print(\"=== Logistic Regression ===\")\n",
    "print(classification_report(y_test, lr_y_pred))\n",
    "print(\"ROC AUC :\", roc_auc_score(y_test, lr_y_proba))\n",
    "\n",
    "print(\"\\n=== Random Forest ===\")\n",
    "print(classification_report(y_test, rf_y_pred))\n",
    "print(\"ROC AUC:\", roc_auc_score(y_test, rf_y_proba))\n",
    "\n",
    "# ==== Confusion Matrix ====\n",
    "\n",
    "fig, ax = plt.subplots(1, 2, figsize=(12, 5))\n",
    "ConfusionMatrixDisplay.from_predictions(y_test, lr_y_pred, ax=ax[0])\n",
    "ax[0].set_title(\"Logistic Regression\")\n",
    "\n",
    "ConfusionMatrixDisplay.from_predictions(y_test, rf_y_pred, ax=ax[1])\n",
    "ax[1].set_title(\"Random Forest\")\n",
    "plt.tight_layout()\n",
    "plt.show()"
   ]
  },
  {
   "cell_type": "code",
   "execution_count": null,
   "id": "6982b704",
   "metadata": {},
   "outputs": [],
   "source": []
  }
 ],
 "metadata": {
  "kernelspec": {
   "display_name": "base",
   "language": "python",
   "name": "python3"
  },
  "language_info": {
   "codemirror_mode": {
    "name": "ipython",
    "version": 3
   },
   "file_extension": ".py",
   "mimetype": "text/x-python",
   "name": "python",
   "nbconvert_exporter": "python",
   "pygments_lexer": "ipython3",
   "version": "3.12.7"
  }
 },
 "nbformat": 4,
 "nbformat_minor": 5
}
